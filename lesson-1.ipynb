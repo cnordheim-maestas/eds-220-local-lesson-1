{
 "cells": [
  {
   "cell_type": "markdown",
   "id": "700fda25-82a5-4b43-b279-6a69b456ea13",
   "metadata": {},
   "source": [
    "# EDS 220: Lesson 1"
   ]
  },
  {
   "cell_type": "markdown",
   "id": "ba624808-0ef5-4481-bd50-952e02109103",
   "metadata": {},
   "source": [
    "## Numpy\n",
    "\n",
    "- one of the core packages for numerical computing in Python\n",
    "- many packages built on top of numpy\n",
    "- numpy bas been optimized for processing (will be faster due to memory access)\n"
   ]
  },
  {
   "cell_type": "code",
   "execution_count": 2,
   "id": "9608fcee-04af-4613-88cb-c0e0ac69842b",
   "metadata": {
    "tags": []
   },
   "outputs": [],
   "source": [
    "# import Numpy for standard abbreviation\n",
    "import numpy as np"
   ]
  },
  {
   "cell_type": "markdown",
   "id": "81b7fd6d-2b3b-4dcd-a213-a56caf9987a2",
   "metadata": {},
   "source": [
    "## Variables\n",
    "a name we assign a particular object in Python"
   ]
  },
  {
   "cell_type": "code",
   "execution_count": 3,
   "id": "ff644b0f-12a4-40b9-9c47-064a7f0b05e9",
   "metadata": {
    "tags": []
   },
   "outputs": [],
   "source": [
    "# assign a small array to a variable, a\n",
    "a = np.array( [ [1,1,2],[3,5,8] ] )"
   ]
  },
  {
   "cell_type": "markdown",
   "id": "a5cf8e75-a511-4454-9fd4-d16fca840d56",
   "metadata": {},
   "source": [
    "When we run the cell, we store the variable and its value. We can see the variable's value in 2 ways:"
   ]
  },
  {
   "cell_type": "code",
   "execution_count": 4,
   "id": "fb9f8730-27d1-42c8-a9a1-3eb8fa13c67d",
   "metadata": {
    "tags": []
   },
   "outputs": [
    {
     "data": {
      "text/plain": [
       "array([[1, 1, 2],\n",
       "       [3, 5, 8]])"
      ]
     },
     "execution_count": 4,
     "metadata": {},
     "output_type": "execute_result"
    }
   ],
   "source": [
    "a"
   ]
  },
  {
   "cell_type": "code",
   "execution_count": 6,
   "id": "9b68c04d-7054-4c4d-8edd-259f908c5f31",
   "metadata": {
    "tags": []
   },
   "outputs": [
    {
     "name": "stdout",
     "output_type": "stream",
     "text": [
      "[[1 1 2]\n",
      " [3 5 8]]\n"
     ]
    }
   ],
   "source": [
    "print(a) #typically displays it nicer"
   ]
  },
  {
   "cell_type": "markdown",
   "id": "85bf6df7-ed5e-419b-a698-d20e6e997286",
   "metadata": {
    "tags": []
   },
   "source": [
    "### Naming variables\n",
    "In this class we will use 'snake_case' for naming variables\n",
    "\n",
    "### Variables and objects\n",
    "**object**: a bundle of properties and actions about something specific\n",
    "\n",
    "Example:\n",
    "- object: dataframe\n",
    "- properties: number of rows, names of columns, data\n",
    "- actions: selecting a row, adding a column\n",
    "\n",
    "A variable is a name we give a specific object, and the same object can be referenced by different variables.\n",
    "\n",
    "Example:\n",
    "- the Sun (actual star at the senter of the solar system) = object\n",
    "- sol = Spanish word for Sun = variable\n",
    "- soleil = French for Sun = another variable\n",
    "\n",
    "In practice, we will use objects and variables interchangeably"
   ]
  },
  {
   "cell_type": "markdown",
   "id": "a1e62d99-f1d2-43ac-b613-1e5eef194228",
   "metadata": {
    "tags": []
   },
   "source": [
    "## Types\n",
    "\n",
    "Each object has a type\n",
    "\n",
    "type = what kind of object it is\n",
    "\n",
    "We can also call the type of the object the **class** of the object\n",
    "\n",
    "We can see the type/class of an object by using the type function"
   ]
  },
  {
   "cell_type": "code",
   "execution_count": 9,
   "id": "0a6becf1-2bca-42e7-aafb-af732687eb02",
   "metadata": {
    "tags": []
   },
   "outputs": [
    {
     "name": "stdout",
     "output_type": "stream",
     "text": [
      "[[1 1 2]\n",
      " [3 5 8]]\n"
     ]
    },
    {
     "data": {
      "text/plain": [
       "numpy.ndarray"
      ]
     },
     "execution_count": 9,
     "metadata": {},
     "output_type": "execute_result"
    }
   ],
   "source": [
    "print(a)\n",
    "type(a)"
   ]
  },
  {
   "cell_type": "markdown",
   "id": "dfdcfde1-e40f-47cd-b921-2d602e10d0c2",
   "metadata": {
    "tags": []
   },
   "source": [
    "The numpy.ndarray is the core object/datatype in the NumPy package. We can check the type of an entry in the array by indexing. "
   ]
  },
  {
   "cell_type": "code",
   "execution_count": 13,
   "id": "114cd295-18a9-4f1d-bc43-f555bbad5fc1",
   "metadata": {
    "tags": []
   },
   "outputs": [
    {
     "name": "stdout",
     "output_type": "stream",
     "text": [
      "1\n"
     ]
    },
    {
     "data": {
      "text/plain": [
       "numpy.int64"
      ]
     },
     "execution_count": 13,
     "metadata": {},
     "output_type": "execute_result"
    }
   ],
   "source": [
    "# access the first row and first column\n",
    "# remember, indexing starts at 0!\n",
    "\n",
    "print(a [0,0] )\n",
    "type(a [0,0] )"
   ]
  },
  {
   "cell_type": "code",
   "execution_count": 15,
   "id": "c6cb675b-0e84-4fb5-9106-57902e96c22d",
   "metadata": {
    "tags": []
   },
   "outputs": [
    {
     "name": "stdout",
     "output_type": "stream",
     "text": [
      "5\n"
     ]
    }
   ],
   "source": [
    "# how would you access the value 5 in array a?\n",
    "\n",
    "print(a [1,1] )"
   ]
  },
  {
   "cell_type": "markdown",
   "id": "95966041-02ca-4ff4-b954-187cddd7b61a",
   "metadata": {},
   "source": [
    "## Functions\n",
    "\n",
    "print was our first example of a python function! :) \n",
    "\n",
    "A function:\n",
    "- take in a set of **arguments** separated by commas, and\n",
    "- use those arguments to produce some **output**\n",
    "\n",
    "arguement = paramater : you might see argument more often in dicumentation\n",
    "\n",
    "We can ask information about a function using ? before the function"
   ]
  },
  {
   "cell_type": "code",
   "execution_count": 20,
   "id": "356f1b23-ace2-43c9-abfe-b9303b467b4a",
   "metadata": {
    "tags": []
   },
   "outputs": [
    {
     "data": {
      "text/plain": [
       "\u001b[0;31mSignature:\u001b[0m \u001b[0mprint\u001b[0m\u001b[0;34m(\u001b[0m\u001b[0;34m*\u001b[0m\u001b[0margs\u001b[0m\u001b[0;34m,\u001b[0m \u001b[0msep\u001b[0m\u001b[0;34m=\u001b[0m\u001b[0;34m' '\u001b[0m\u001b[0;34m,\u001b[0m \u001b[0mend\u001b[0m\u001b[0;34m=\u001b[0m\u001b[0;34m'\\n'\u001b[0m\u001b[0;34m,\u001b[0m \u001b[0mfile\u001b[0m\u001b[0;34m=\u001b[0m\u001b[0;32mNone\u001b[0m\u001b[0;34m,\u001b[0m \u001b[0mflush\u001b[0m\u001b[0;34m=\u001b[0m\u001b[0;32mFalse\u001b[0m\u001b[0;34m)\u001b[0m\u001b[0;34m\u001b[0m\u001b[0;34m\u001b[0m\u001b[0m\n",
       "\u001b[0;31mDocstring:\u001b[0m\n",
       "Prints the values to a stream, or to sys.stdout by default.\n",
       "\n",
       "sep\n",
       "  string inserted between values, default a space.\n",
       "end\n",
       "  string appended after the last value, default a newline.\n",
       "file\n",
       "  a file-like object (stream); defaults to the current sys.stdout.\n",
       "flush\n",
       "  whether to forcibly flush the stream.\n",
       "\u001b[0;31mType:\u001b[0m      builtin_function_or_method"
      ]
     },
     "metadata": {},
     "output_type": "display_data"
    }
   ],
   "source": [
    "# get info about print\n",
    "?print"
   ]
  },
  {
   "cell_type": "markdown",
   "id": "f4e72e9a-4535-4b4a-8a23-ade3f7af6ee3",
   "metadata": {},
   "source": [
    "- first line: function showing all of its arguments in parenthesis\n",
    "- then a short description of what the function does\n",
    "- finally, a list of the arguments and brief explanation of each of them\n",
    "\n",
    "Different types of arguments inside the parenthesis. Roughly speaking, there are 2 types of arguments:\n",
    "\n",
    "- **non-optional arguments**: arguments you need to specify for the function to do something\n",
    "- **optional arguments**: arguments prefilled with a defauly value but we can override them. Optional args appear inside the parenthesis () in the form below when you look up the documentation\n",
    "\n",
    "optional argument = default_value"
   ]
  },
  {
   "cell_type": "code",
   "execution_count": 23,
   "id": "e6f6d1f4-c678-41ac-9d97-4769cb2fb01f",
   "metadata": {
    "tags": []
   },
   "outputs": [
    {
     "name": "stdout",
     "output_type": "stream",
     "text": [
      "change it to a smiley:)"
     ]
    }
   ],
   "source": [
    "# let's change the defauly argument for the end of the print function\n",
    "print(\"change it to a smiley\", end= ':)' )"
   ]
  },
  {
   "cell_type": "code",
   "execution_count": null,
   "id": "7e4d0163-695a-492b-87a9-d1e641e99ef9",
   "metadata": {},
   "outputs": [],
   "source": []
  }
 ],
 "metadata": {
  "kernelspec": {
   "display_name": "Python 3 (ipykernel)",
   "language": "python",
   "name": "python3"
  },
  "language_info": {
   "codemirror_mode": {
    "name": "ipython",
    "version": 3
   },
   "file_extension": ".py",
   "mimetype": "text/x-python",
   "name": "python",
   "nbconvert_exporter": "python",
   "pygments_lexer": "ipython3",
   "version": "3.11.4"
  }
 },
 "nbformat": 4,
 "nbformat_minor": 5
}
